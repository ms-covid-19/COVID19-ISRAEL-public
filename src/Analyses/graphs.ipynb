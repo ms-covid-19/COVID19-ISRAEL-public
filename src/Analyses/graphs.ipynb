{
 "cells": [
  {
   "cell_type": "markdown",
   "metadata": {
    "heading_collapsed": true
   },
   "source": [
    "# general"
   ]
  },
  {
   "cell_type": "code",
   "execution_count": null,
   "metadata": {
    "hidden": true
   },
   "outputs": [],
   "source": [
    "# imports\n",
    "import os\n",
    "import copy\n",
    "from datetime import date\n",
    "from bidi.algorithm import get_display  # flips letters order - a problem that comes up in Hebrew\n",
    "\n",
    "import numpy as np\n",
    "import pandas as pd\n",
    "\n",
    "from scipy.stats import pearsonr, spearmanr\n",
    "\n",
    "import seaborn as sns\n",
    "import matplotlib.pyplot as plt\n",
    "from matplotlib import gridspec\n",
    "from matplotlib import rcParams\n",
    "\n",
    "from IPython.core.interactiveshell import InteractiveShell\n",
    "InteractiveShell.ast_node_interactivity = \"all\"  # allows to see all outputs of a cell rather then just from the last line\n",
    "from IPython.display import Image   # allows to display existing images in the notebook"
   ]
  },
  {
   "cell_type": "code",
   "execution_count": null,
   "metadata": {
    "hidden": true
   },
   "outputs": [],
   "source": [
    "rcParams['savefig.format'] = 'png'#'svg'#\n",
    "sns.set(font_scale=1.3, style='white')"
   ]
  },
  {
   "cell_type": "code",
   "execution_count": null,
   "metadata": {
    "hidden": true
   },
   "outputs": [],
   "source": [
    "# paths\n",
    "cities_file = '/net/mraid08/export/jafar/Microbiome/Analyses/saar/corona/yeshuvim_20200301.csv'\n",
    "questions_file = '/home/saarsh/Develop/Git/corona/data/Processed/forms/all_forms.csv'\n",
    "patients_MOH_file= '/net/mraid08/export/jafar/Microbiome/Analyses/saar/corona/MOH/MOH_combined.csv'"
   ]
  },
  {
   "cell_type": "code",
   "execution_count": null,
   "metadata": {
    "hidden": true
   },
   "outputs": [],
   "source": [
    "# create a hebrew-english cities dictionary\n",
    "cities_df = pd.read_csv(cities_file, skiprows=1, encoding='hebrew').rename(columns={'��_����': 'city_he', '��_����_�����': 'city_en'})\n",
    "cities_df.columns = map(str.lower, cities_df.columns)\n",
    "cities_df['city_he'] = cities_df['city_he'].str.strip()\n",
    "cities_df['city_en'] = cities_df['city_en'].str.strip()\n",
    "\n",
    "city_he2en_dict = cities_df.set_index('city_he')['city_en'].to_dict()\n",
    "city_en2he_dict = cities_df.set_index('city_en')['city_he'].to_dict()"
   ]
  },
  {
   "cell_type": "code",
   "execution_count": null,
   "metadata": {
    "hidden": true,
    "scrolled": true
   },
   "outputs": [],
   "source": [
    "# reading and cleaning files\n",
    "questions_df = pd.read_csv(questions_file)\n",
    "questions_df.columns = map(str.lower, questions_df.columns)\n",
    "questions_df['date_only'] = pd.to_datetime(questions_df['timestamp']).dt.date\n",
    "questions_df['city_he'] = questions_df['city_en'].map(city_en2he_dict)\n",
    "\n",
    "patients_MOH_df = pd.read_csv(patients_MOH_file)"
   ]
  },
  {
   "cell_type": "code",
   "execution_count": null,
   "metadata": {
    "hidden": true
   },
   "outputs": [],
   "source": [
    "# sanity check\n",
    "questions_df.shape\n",
    "questions_df['date_only'].min()\n",
    "questions_df['date_only'].max()"
   ]
  },
  {
   "cell_type": "code",
   "execution_count": null,
   "metadata": {
    "hidden": true
   },
   "outputs": [],
   "source": [
    "# parameters\n",
    "minimal_population = None\n",
    "minimal_answers = 20\n",
    "minimal_days = 3\n",
    "days_back = None\n",
    "alpha = 0.05\n",
    "\n",
    "hebrew = False\n",
    "time = 'date_only'\n",
    "location = 'city_en' if not hebrew else 'city_he'\n",
    "area = 'district_en'"
   ]
  },
  {
   "cell_type": "code",
   "execution_count": null,
   "metadata": {
    "hidden": true,
    "scrolled": true
   },
   "outputs": [],
   "source": [
    "# filtering - questions\n",
    "questions_filtered_df = questions_df\n",
    "if days_back:\n",
    "    questions_filtered_df = questions_filtered_df[questions_filtered_df[time] > questions_filtered_df[time].max() - pd.Timedelta(days=days_back)]\n",
    "if minimal_answers:\n",
    "    questions_filtered_df = questions_filtered_df.groupby([location, time]).filter(lambda x: x.shape[0] > minimal_answers)\n",
    "if minimal_days:\n",
    "    questions_filtered_df = questions_filtered_df.groupby([location]).filter(lambda x: len(np.unique(x[time])) > minimal_days)\n",
    "    \n",
    "# filtering - patients\n",
    "patients_MOH_filtered_df = patients_MOH_df.drop_duplicates(location)\n",
    "if minimal_population:\n",
    "    patients_MOH_filtered_df = patients_MOH_filtered_df[patients_MOH_filtered_df['population'] > minimal_population]"
   ]
  },
  {
   "cell_type": "code",
   "execution_count": null,
   "metadata": {
    "hidden": true
   },
   "outputs": [],
   "source": [
    "# parameters lists\n",
    "# srt - from confirmed patients\n",
    "# srs - from entire population (iclandic paper)\n",
    "symptoms_to_ignore = ['symptom_well', 'symptom_ratio',  'symptom_ratio_weighted']\n",
    "all_symptoms = questions_filtered_df.columns[['symptom_' in col and col not in symptoms_to_ignore for col in questions_filtered_df.columns]].values.tolist()\n",
    "all_conditions = questions_filtered_df.columns[['condition_' in col for col in questions_filtered_df.columns]].values.tolist()"
   ]
  },
  {
   "cell_type": "code",
   "execution_count": null,
   "metadata": {
    "hidden": true
   },
   "outputs": [],
   "source": [
    "symptoms = ['symptom_ratio_weighted']"
   ]
  },
  {
   "cell_type": "markdown",
   "metadata": {
    "heading_collapsed": true
   },
   "source": [
    "# patients symptoms correlation"
   ]
  },
  {
   "cell_type": "code",
   "execution_count": null,
   "metadata": {
    "hidden": true
   },
   "outputs": [],
   "source": [
    "patients_col = [date(2020, 4, 1), date(2020, 4, 3)]"
   ]
  },
  {
   "cell_type": "code",
   "execution_count": null,
   "metadata": {
    "hidden": true,
    "scrolled": true
   },
   "outputs": [],
   "source": [
    "def patients_symptoms_correlation_plot(symptoms, patients_col, start_date=None, end_date=None, corr_only=False, df_only=False):\n",
    "    \n",
    "    # data - patients\n",
    "    p_df = patients_MOH_filtered_df.set_index([location])\n",
    "    if type(patients_col) is list:\n",
    "        p_df = (p_df[str(patients_col[1])].subtract(p_df[str(patients_col[0])]).divide(p_df['population']).dropna())*1000\n",
    "        xlabel = 'new patients per 1000 residences' if not hebrew else get_display('����� ����� �-1000 ������')\n",
    "    else:\n",
    "        p_df = (p_df[str(patients_col)].divide(p_df['population']).dropna())*1000\n",
    "        xlabel = 'patients per 1000 residences' if not hebrew else get_display('����� �-1000 ������')\n",
    "\n",
    "    # data - questions\n",
    "    q_df = questions_filtered_df[[location, time] + symptoms]\n",
    "    if start_date is not None and end_date is not None:\n",
    "        q_df = q_df[q_df[time] >= start_date]\n",
    "        q_df = q_df[q_df[time] <= end_date]\n",
    "        q_df = q_df.groupby([location]).filter(lambda x: len(np.unique(x[time])) > (end_date-start_date).days)\n",
    "    q_df = q_df.drop(time, axis=1)\n",
    "    if len(symptoms) == 1:\n",
    "        q_df = q_df.groupby([location])[symptoms[0]].mean()*100\n",
    "#         q_df = q_df.groupby([location])[symptoms[0]].mean()\n",
    "    else:\n",
    "        q_df = (q_df.groupby([location])[symptoms].mean()*100).mean(axis=1)\n",
    "#         q_df = (q_df.groupby([location])[[symptoms].mean()).mean(axis=1)\n",
    "\n",
    "    # data - sync\n",
    "    overlpped_cities = set(p_df.index) & set(q_df.index)\n",
    "    p_df = p_df.loc[overlpped_cities]\n",
    "    q_df = q_df.loc[overlpped_cities]\n",
    "    \n",
    "    if df_only:\n",
    "        return q_df, p_df\n",
    "\n",
    "    r_p, p_p = pearsonr(p_df, q_df)\n",
    "    r_s, p_s = spearmanr(p_df, q_df)\n",
    "\n",
    "    if corr_only:\n",
    "        return r_p, p_p, r_s, p_s\n",
    "    \n",
    "    # plot\n",
    "    fig = plt.figure(figsize=(14, 12))\n",
    "    gs = fig.add_gridspec(1, 8)\n",
    "    axes = [np.nan, np.nan]\n",
    "    axes[0] = fig.add_subplot(gs[0, :-1])\n",
    "    axes[1] = fig.add_subplot(gs[0, -1:])\n",
    "    \n",
    "    # plot the same on both axes\n",
    "    for i in np.arange(len(axes)):\n",
    "        axes[i] = sns.scatterplot(p_df, q_df, \n",
    "                                  hue=q_df, palette='Reds', edgecolor='gray', linewidth=1,\n",
    "                                  size=patients_MOH_filtered_df.set_index(location).loc[overlpped_cities, 'population'], sizes=(500, 2000), ax=axes[i])\n",
    "    \n",
    "        for city in overlpped_cities:\n",
    "            if hebrew:\n",
    "                city = get_display(city)\n",
    "            axes[i].annotate(city, (p_df.loc[city], q_df.loc[city]))\n",
    "    \n",
    "    # hide the spines between the axes\n",
    "    axes[0].spines['right'].set_visible(False)\n",
    "    axes[1].spines['left'].set_visible(False)\n",
    "    axes[1].tick_params(labelleft=False)\n",
    "    axes[1].set_ylabel('')\n",
    "    \n",
    "    # zoom-in / limit the view to different portions of the data\n",
    "    axes[0].set_xlim(0, 0.45)  # outliers only\n",
    "    axes[1].set_xlim(1.7, 1.75)  # most of the data\n",
    "    axes[0].set_xticks(np.arange(axes[0].get_xlim()[0], axes[0].get_xlim()[1], 0.05))\n",
    "    axes[1].set_xticks(np.arange(axes[1].get_xlim()[0], axes[1].get_xlim()[1], 0.05))\n",
    "\n",
    "    # diagnoal lines between axes\n",
    "    d = .015  # size of diagonal lines in axes coordinates\n",
    "    kwargs = dict(transform=axes[0].transAxes, color='k', clip_on=False)\n",
    "    axes[0].plot((1, 1), (-d, +d), **kwargs)\n",
    "    axes[0].plot((1, 1), (1 - d, 1 + d), **kwargs)\n",
    "\n",
    "    kwargs.update(transform=axes[1].transAxes, color='k', clip_on=False)\n",
    "    axes[1].plot((0, 0), (-d, +d), **kwargs)\n",
    "    axes[1].plot((0, 0), (1 - d, 1 + d), **kwargs)\n",
    "                \n",
    "    # only for the main axes\n",
    "    axes[0].set_xlabel(xlabel)\n",
    "    axes[0].set_ylabel('% symptoms in the city') if not hebrew else ax1.set_ylabel(get_display('���� ���������� ����'))\n",
    "#     axes[0].set_ylabel('mean symptoms ratio in the city') if not hebrew else ax1.set_ylabel(get_display('��� ��������� ����� ����'))\n",
    "\n",
    "    if len(symptoms) == 1:\n",
    "        title = 'correlation between patients and {}'.format(symptoms[0]) if not hebrew else get_display('�������� ��� ����� �- ') + symptoms[0]\n",
    "    else:\n",
    "        title = 'correlation between patients and symptoms'  if not hebrew else get_display('�������� ��� ����� ����������')\n",
    "    correlation = 'pearson: r={} p={}\\nspearman: r={} p={}'.format(round(r_p, 3), round(p_p, 3), round(r_s, 3), round(p_s, 3))\n",
    "    axes[0].set_title('{}\\n{}'.format(title, correlation), loc='left')\n",
    "\n",
    "    sm = plt.cm.ScalarMappable(cmap=\"Reds\", norm=plt.Normalize(q_df.min(), q_df.max()))\n",
    "    sm.set_array([])\n",
    "    axes[0].get_legend().remove()\n",
    "    axes[0].figure.colorbar(sm)\n",
    "    \n",
    "    # only for the minor axis\n",
    "    axes[1].legend_.remove()\n",
    "    \n",
    "    # finishim\n",
    "    plt.tight_layout()\n",
    "\n",
    "    plt.savefig(os.path.join('figs', 'patients and symptoms correlation - scatter plot'))"
   ]
  },
  {
   "cell_type": "code",
   "execution_count": null,
   "metadata": {
    "hidden": true,
    "scrolled": true
   },
   "outputs": [],
   "source": [
    "# find the best dates to take from the questionnaires\n",
    "df = pd.DataFrame(columns=['start_date', 'end_date', 'delta_days', 'window_length', 'r_p', 'p_p', 'r_s', 'p_s'])\n",
    "\n",
    "for delta_days in np.arange(1, 8):\n",
    "    for window_length in np.arange(1, 8):\n",
    "\n",
    "        end_date = patients_col[0] - pd.Timedelta(days=delta_days)\n",
    "        start_date = end_date - pd.Timedelta(days=window_length-1)\n",
    "        \n",
    "        r_p, p_p, r_s, p_s = patients_symptoms_correlation_plot(symptoms, patients_col, start_date, end_date, corr_only=True)\n",
    "        \n",
    "        df.loc[df.shape[0]] = [start_date, end_date, delta_days, window_length, r_p, p_p, r_s, p_s]"
   ]
  },
  {
   "cell_type": "code",
   "execution_count": null,
   "metadata": {
    "hidden": true
   },
   "outputs": [],
   "source": [
    "df.loc[(df['p_p'] < alpha) & (df['p_s'] < alpha)].sort_values('r_s', ascending=False)"
   ]
  },
  {
   "cell_type": "code",
   "execution_count": null,
   "metadata": {
    "hidden": true,
    "scrolled": true
   },
   "outputs": [],
   "source": [
    "df.loc[df['p_s'] < alpha].sort_values('r_s', ascending=False)"
   ]
  },
  {
   "cell_type": "code",
   "execution_count": null,
   "metadata": {
    "hidden": true
   },
   "outputs": [],
   "source": [
    "start_date = date(2020, 3, 26)\n",
    "end_date = date(2020, 3, 28)"
   ]
  },
  {
   "cell_type": "markdown",
   "metadata": {
    "heading_collapsed": true,
    "hidden": true
   },
   "source": [
    "## scatter plot"
   ]
  },
  {
   "cell_type": "code",
   "execution_count": null,
   "metadata": {
    "hidden": true,
    "scrolled": true
   },
   "outputs": [],
   "source": [
    "patients_symptoms_correlation_plot(symptoms, patients_col, start_date, end_date)"
   ]
  },
  {
   "cell_type": "markdown",
   "metadata": {
    "heading_collapsed": true,
    "hidden": true
   },
   "source": [
    "## bar plot"
   ]
  },
  {
   "cell_type": "code",
   "execution_count": null,
   "metadata": {
    "hidden": true,
    "scrolled": true
   },
   "outputs": [],
   "source": [
    "q_df, p_df = patients_symptoms_correlation_plot(symptoms, patients_col, start_date, end_date, df_only=True)\n",
    "\n",
    "top_q = q_df.sort_values(ascending=False).index\n",
    "\n",
    "# q\n",
    "plt.figure(figsize=(10, 6))\n",
    "label = 'questionnaires prediction' if not hebrew else get_display('����� ��������')\n",
    "g = sns.barplot(top_q, q_df.loc[top_q].values, color='lightgray', label=label)\n",
    "g.set_ylabel('% symptoms in city\\n{} - {}'.format(start_date, end_date)) if not hebrew else g.set_ylabel(get_display('���� ���������� ����') + '\\n{} - {}'.format(start_date, end_date))\n",
    "# g.set_ylim(3, 8)\n",
    "\n",
    "# p\n",
    "g2 = g.twinx()\n",
    "label = 'new patients' if not hebrew else get_display('����� �����')\n",
    "sns.scatterplot(top_q, p_df.loc[top_q].values, alpha=0.25, color='red', ax=g2)\n",
    "rolling = p_df.loc[top_q].rolling(window=4).mean().fillna(method='bfill')\n",
    "g2.plot(top_q, rolling.values, color='red', linewidth=4, label=label)\n",
    "# g2.set_ylim(0, 0.75)\n",
    "g2.set_ylabel('new patients per 1000 residences\\n{} - {}'.format(patients_col[0], patients_col[1])) if not hebrew else g2.set_ylabel(get_display('����� ����� �-1000 ������') + '\\n{} - {}'.format(patients_col[0], patients_col[1]))\n",
    "\n",
    "g.set_xticklabels(top_q, rotation=90) if not hebrew else g.set_xticklabels([get_display(label) for label in top_q], rotation=90)\n",
    "g.set_xlabel('')\n",
    "\n",
    "g2.figure.legend(bbox_to_anchor=(0.85, 0.9))\n",
    "\n",
    "plt.tight_layout()\n",
    "plt.savefig(os.path.join('figs', 'patients and symptoms correlation - bar plot'))"
   ]
  },
  {
   "cell_type": "markdown",
   "metadata": {
    "heading_collapsed": true,
    "hidden": true
   },
   "source": [
    "## follow ups"
   ]
  },
  {
   "cell_type": "code",
   "execution_count": null,
   "metadata": {
    "hidden": true,
    "scrolled": false
   },
   "outputs": [],
   "source": [
    "# ??, ?? = patients_symptoms_correlation_plot(symptoms, ??, ??, ??, df_only=True)\n",
    "\n",
    "# x = ??\n",
    "# y = ??\n",
    "\n",
    "# overlapped_citis = x.index.intersection(y.index)\n",
    "\n",
    "# x = x.loc[overlapped_citis]\n",
    "# y = y.loc[overlapped_citis]\n",
    "\n",
    "# g = sns.scatterplot(x, y)\n",
    "\n",
    "# r_p, p_p = pearsonr(x, y)\n",
    "# r_s, p_s = spearmanr(x, y)\n",
    "# correlation = 'pearson: r={} p={}\\nspearman: r={} p={}'.format(round(r_p, 3), round(p_p, 3), round(r_s, 3), round(p_s, 3))\n",
    "\n",
    "# g.set_title(correlation)\n",
    "# g.set_xlabel('')\n",
    "# g.set_ylabel('')\n",
    "\n",
    "# plt.tight_layout()\n",
    "\n",
    "# g.figure.savefig(os.path.join('figs', ''))"
   ]
  },
  {
   "cell_type": "markdown",
   "metadata": {
    "heading_collapsed": true
   },
   "source": [
    "# symptoms time correlation"
   ]
  },
  {
   "cell_type": "code",
   "execution_count": null,
   "metadata": {
    "hidden": true
   },
   "outputs": [],
   "source": [
    "start_date = date(2020, 3, 21)\n",
    "end_date = date(2020, 4, 3)"
   ]
  },
  {
   "cell_type": "code",
   "execution_count": null,
   "metadata": {
    "hidden": true
   },
   "outputs": [],
   "source": [
    "min_r = 0.8"
   ]
  },
  {
   "cell_type": "code",
   "execution_count": null,
   "metadata": {
    "hidden": true
   },
   "outputs": [],
   "source": [
    "# to add possibility to use a list with more then one symptom"
   ]
  },
  {
   "cell_type": "code",
   "execution_count": null,
   "metadata": {
    "hidden": true,
    "scrolled": true
   },
   "outputs": [],
   "source": [
    "# data - questions\n",
    "q_df = questions_filtered_df[[location, time] + symptoms]\n",
    "q_df = q_df[q_df[time] >= start_date]\n",
    "q_df = q_df[q_df[time] <= end_date]\n",
    "q_df = q_df.groupby([location]).filter(lambda x: len(np.unique(x[time])) == (end_date-start_date).days)\n",
    "\n",
    "q_df = (q_df.groupby([location, time]).mean()*100).sort_index().reset_index(time)\n",
    "\n",
    "g = None\n",
    "plt.figure(figsize=(16, 5))\n",
    "for city in np.unique(q_df.index):\n",
    "    rolling = q_df.loc[city, symptoms[0]].rolling(window=3).mean()\n",
    "    r, p = spearmanr(q_df.loc[city, time], rolling)\n",
    "    if r > min_r and p < alpha:\n",
    "        label = city if not hebrew else get_display(city)\n",
    "        g = sns.lineplot(q_df.loc[city, time], rolling, label=label + ' (r={})'.format(round(r, 2)), marker='o', ax=g)\n",
    "        \n",
    "g.set_title('cities with highest correaltion of symptoms along time') if not hebrew else g.set_title(get_display('���� �� ��������� ��� ���� �� ����'))\n",
    "g.set_xlim(q_df.loc[city, time].min() + pd.Timedelta(days=3), q_df.loc[city, time].max())\n",
    "g.set_xlabel('')\n",
    "\n",
    "g.figure.savefig(os.path.join('figs', 'symptoms time correlation'))"
   ]
  },
  {
   "cell_type": "markdown",
   "metadata": {
    "heading_collapsed": true
   },
   "source": [
    "# symptoms ratio between dates"
   ]
  },
  {
   "cell_type": "code",
   "execution_count": null,
   "metadata": {
    "hidden": true,
    "scrolled": true
   },
   "outputs": [],
   "source": [
    "# data - questions\n",
    "q_df = questions_filtered_df[[location, time] + symptoms]\n",
    "q_df = q_df.groupby([location, time]).mean().reset_index()\n",
    "q_df = q_df[q_df[time] >= date(2020, 3, 29)]\n",
    "q_df = q_df[q_df[time] <= date(2020, 4, 3)]\n",
    "q_df = q_df.groupby([location]).filter(lambda x: x.shape[0] == 6).sort_index().reset_index().drop('index', axis=1)\n",
    "\n",
    "q_old_df = q_df\n",
    "q_old_df = q_old_df[q_old_df[time] >= date(2020, 3, 29)]\n",
    "q_old_df = q_old_df[q_old_df[time] <= date(2020, 3, 31)]\n",
    "q_old_df = (q_old_df.drop(time, axis=1).groupby([location]).mean()*100).sort_index()\n",
    "\n",
    "q_new_df = q_df\n",
    "q_new_df = q_new_df[q_new_df[time] >= date(2020, 4, 1)]\n",
    "q_new_df = q_new_df[q_new_df[time] <= date(2020, 4, 3)]\n",
    "q_new_df = (q_new_df.drop(time, axis=1).groupby([location]).mean()*100).sort_index()\n",
    "\n",
    "q_df = q_new_df.divide(q_old_df).sort_values(symptoms, ascending=False).reset_index()\n",
    "\n",
    "plt.figure(figsize=(14, 6))\n",
    "g = sns.barplot(location, symptoms[0], data=q_df, palette=(q_df[symptoms[0]] > 1).map({True: 'Red', False: 'Green'}).tolist())\n",
    "g.axhline(1, color='black')\n",
    "g.set_xticklabels(q_df[location], rotation=90) if not hebrew else g.set_xticklabels([get_display(label) for label in q_df[location]], rotation=90)\n",
    "g.set_ylabel('ratio between symptoms') if not hebrew else g.set_ylabel(get_display('��� ����������'))\n",
    "g.set_xlabel('ratio between symptoms in')\n",
    "title = '' if not hebrew else get_display('��� ���������� ���')\n",
    "g.set_title(title + '\\n{}-{}\\n{}-{}'.format(date(2020, 4, 3), date(2020, 4, 1), date(2020, 3, 31), date(2020, 3, 29)))\n",
    "\n",
    "plt.tight_layout()\n",
    "\n",
    "g.figure.savefig(os.path.join('figs', 'ratio between symptoms'))"
   ]
  },
  {
   "cell_type": "markdown",
   "metadata": {
    "heading_collapsed": true
   },
   "source": [
    "# symptoms over time"
   ]
  },
  {
   "cell_type": "markdown",
   "metadata": {
    "heading_collapsed": true,
    "hidden": true
   },
   "source": [
    "## per area"
   ]
  },
  {
   "cell_type": "code",
   "execution_count": null,
   "metadata": {
    "hidden": true
   },
   "outputs": [],
   "source": [
    "def symptoms_patients_plot(**kwargs):\n",
    "\n",
    "    # retract the data\n",
    "    sub_data = kwargs.pop('data')\n",
    "    \n",
    "    q_data = sub_data[sub_data['variable'] != 'sick']\n",
    "    if ~q_data.empty:\n",
    "        sns.lineplot(time, 'value', marker='o', data=q_data, **kwargs)\n",
    "            \n",
    "    p_data = sub_data[sub_data['variable'] == 'sick']\n",
    "    if ~p_data.empty:\n",
    "        kwargs['color'] = 'red'\n",
    "        sns.scatterplot(time, 'value', marker='*', s=300, data=p_data, **kwargs)"
   ]
  },
  {
   "cell_type": "code",
   "execution_count": null,
   "metadata": {
    "hidden": true
   },
   "outputs": [],
   "source": [
    "# remove 'symptoms' from legend label"
   ]
  },
  {
   "cell_type": "code",
   "execution_count": null,
   "metadata": {
    "hidden": true,
    "scrolled": true
   },
   "outputs": [],
   "source": [
    "# data - questions\n",
    "q_df = questions_filtered_df[[area, location, time] + all_symptoms]\n",
    "q_df = (q_df.groupby([area, location, time]).mean()*100).reset_index()\n",
    "\n",
    "# data - patients\n",
    "p_df = pd.DataFrame() # dismissing this part because of patients file change\n",
    "# p_df = p_df[p_df[location].isin(np.unique(q_df[location]))]\n",
    "# p_df = p_df[p_df[time] > q_df['date_only'].min()]\n",
    "# p_df['variable'] = 'sick'\n",
    "# p_df['value'] = -2.5\n",
    "\n",
    "# plot\n",
    "full_data = q_df.melt(id_vars=[area, location, time]) # pd.concat([q_df.melt(id_vars=[area, location, time]), p_df[[area, location, time, 'variable', 'value']]])\n",
    "row = location\n",
    "hue = 'variable'\n",
    "\n",
    "for area_ in np.unique(full_data[area]):\n",
    "    data = full_data[full_data[area] == area_]\n",
    "\n",
    "    g = sns.FacetGrid(data=data,\n",
    "                  row=row, hue=hue, \n",
    "                  sharex=False, sharey=True, \n",
    "                  xlim=(data[time].min(), data[time].max()), ylim=(-4, data['value'].max()),\n",
    "                  height=3, aspect=4, size=None,\n",
    "                  palette=None, legend_out=True,\n",
    "                  row_order=np.unique(data[row].dropna()), hue_order=np.unique(data[hue].dropna()))\n",
    "\n",
    "    g = g.map_dataframe(symptoms_patients_plot)\n",
    "\n",
    "    g.set_titles(row_template='{row_name}', col_template='{col_name}')\n",
    "    g.set_axis_labels(y_var='% positive answers') if not hebrew else g.set_axis_labels(y_var=get_display('% ������� ��������'))\n",
    "    g.add_legend()\n",
    "#     for ax in g.axes.flatten():\n",
    "#         ax.legend(bbox_to_anchor=(1, 1))\n",
    "    \n",
    "    title = 'symptoms over time with patients in {}'.format(area_) if not hebrew else get_display('��������� ����� ��� �� �����') + ' {}'.format(area_)\n",
    "\n",
    "    g.savefig(os.path.join('figs', 'symptoms over time with patients in {}'.format(area_)))"
   ]
  },
  {
   "cell_type": "markdown",
   "metadata": {
    "heading_collapsed": true,
    "hidden": true
   },
   "source": [
    "## entire country"
   ]
  },
  {
   "cell_type": "code",
   "execution_count": null,
   "metadata": {
    "hidden": true,
    "scrolled": false
   },
   "outputs": [],
   "source": [
    "# data - questions\n",
    "q_df = questions_filtered_df[[time] + symptoms].sort_values(time).groupby([time]).mean().rolling(window=5).mean().reset_index()\n",
    "\n",
    "plt.figure(figsize=(14, 6))\n",
    "g = sns.lineplot(q_df[time], q_df[symptoms[0]], marker='o')\n",
    "g.set_ylabel('average symptoms') if not hebrew else g.set_ylabel(get_display('��������� �������'))\n",
    "g.set_xlabel('')\n",
    "g.set_title('average symptoms across the country') if not hebrew else g.set_title(get_display('��������� ������� ��� ����'))\n",
    "\n",
    "plt.tight_layout()\n",
    "\n",
    "g.figure.savefig(os.path.join('figs', 'country symptoms'))"
   ]
  },
  {
   "cell_type": "markdown",
   "metadata": {
    "heading_collapsed": true,
    "hidden": true
   },
   "source": [
    "## high cities"
   ]
  },
  {
   "cell_type": "code",
   "execution_count": null,
   "metadata": {
    "hidden": true
   },
   "outputs": [],
   "source": [
    "# get cities automatically"
   ]
  },
  {
   "cell_type": "code",
   "execution_count": null,
   "metadata": {
    "hidden": true
   },
   "outputs": [],
   "source": [
    "# data - questions\n",
    "q_df = questions_filtered_df[questions_filtered_df['city_en'].isin(['ASHQELON',\"BE'ER SHEVA\",'BET SHEMESH','BENE BERAQ',\"MODI'IN ILLIT\",'PETAH TIQWA'])]\n",
    "q_df = q_df[[location, time] + symptoms].sort_values([location, time]).groupby([location, time]).mean().rolling(window=5).mean().reset_index()\n",
    "\n",
    "plt.figure(figsize=(14, 6))\n",
    "g = sns.lineplot(q_df[time], q_df[symptoms[0]], hue=q_df[location], marker='o')\n",
    "g.set_ylabel('average symptoms') if not hebrew else g.set_ylabel(get_display('��������� �������'))\n",
    "g.set_xlabel('')\n",
    "g.set_title('cities with high symptoms') if not hebrew else g.set_title(get_display('���� �� ��������� ������'))\n",
    "\n",
    "handels, labels = g.get_legend_handles_labels()\n",
    "for i in np.arange(len(labels)):\n",
    "    labels[i] = get_display(labels[i])\n",
    "g.legend(handels, labels, title='')\n",
    "\n",
    "plt.tight_layout()\n",
    "\n",
    "g.figure.savefig(os.path.join('figs', 'high cities symptoms'))"
   ]
  },
  {
   "cell_type": "markdown",
   "metadata": {
    "heading_collapsed": true
   },
   "source": [
    "# questionnaires over time"
   ]
  },
  {
   "cell_type": "code",
   "execution_count": null,
   "metadata": {
    "hidden": true,
    "scrolled": true
   },
   "outputs": [],
   "source": [
    "name = 'questionnaires' if not hebrew else get_display('�������')\n",
    "\n",
    "# data\n",
    "q_df = questions_df.groupby(time).apply(len).reset_index().rename(columns={0: name})\n",
    "\n",
    "# plot\n",
    "plt.figure()\n",
    "pal = sns.color_palette('Greens', len(data))\n",
    "g = sns.barplot(x=time, y=name, data=q_df, palette=np.array(pal)[q_df[name].argsort().argsort()])\n",
    "\n",
    "g.set_xticklabels(g.get_xticklabels(), rotation=90)\n",
    "for index, label in enumerate(g.get_xticklabels()):\n",
    "    if index % 2 != 0:\n",
    "        label.set_visible(False)\n",
    "g.set_xlabel('')\n",
    "\n",
    "g.set_title('questionnaires over time') if not hebrew else g.set_title(get_display('������� ����� ����')) \n",
    "plt.tight_layout()\n",
    "g.figure.savefig(os.path.join('figs', 'questionnaires over time'))"
   ]
  },
  {
   "cell_type": "markdown",
   "metadata": {
    "heading_collapsed": true
   },
   "source": [
    "# symptoms per location"
   ]
  },
  {
   "cell_type": "code",
   "execution_count": null,
   "metadata": {
    "hidden": true,
    "scrolled": true
   },
   "outputs": [],
   "source": [
    "# data\n",
    "data = questions_filtered_df[[location] + all_symptoms]\n",
    "data = (data.groupby([location]).mean()*100).reset_index()\n",
    "\n",
    "symptoms_by_order = data[all_symptoms].sum().sort_values(ascending=False).index.tolist()\n",
    "location_by_order = data.set_index(location)[all_symptoms].sum(axis=1).sort_values(ascending=False).index.tolist()\n",
    "\n",
    "# Make the PairGrid\n",
    "g = sns.PairGrid(\n",
    "    data=data.set_index(location).loc[location_by_order].reset_index(),\n",
    "    x_vars=symptoms_by_order, y_vars=location,\n",
    "    height=10, aspect=.25)\n",
    "\n",
    "# Draw a dot plot using the stripplot function\n",
    "g.map(sns.stripplot, size=10, orient='h', palette=\"ch:s=1,r=-.1,h=1_r\", linewidth=1, edgecolor='w')\n",
    "\n",
    "# Use the same x axis limits on all columns and add better labels\n",
    "g.set(xlim=(0, 25), xlabel='% positive answers', ylabel='') if not hebrew else g.set(xlim=(0, 25), xlabel=get_display('���� ������� ��������'), ylabel='')\n",
    "\n",
    "for ax, title in zip(g.axes.flat, symptoms_by_order):\n",
    "\n",
    "    # Set a different title for each axes\n",
    "    ax.set(title=title)\n",
    "\n",
    "    # Make the grid horizontal instead of vertical\n",
    "    ax.xaxis.grid(False)\n",
    "    ax.yaxis.grid(True)\n",
    "\n",
    "sns.despine(left=True, bottom=True)\n",
    "\n",
    "title = 'symptoms per location' if not hebrew else get_display('��������� ��� �����')\n",
    "plt.subplots_adjust(top=0.9)\n",
    "g.fig.suptitle(title)\n",
    "g.savefig(os.path.join('figs', 'symptoms per location'))"
   ]
  },
  {
   "cell_type": "markdown",
   "metadata": {
    "heading_collapsed": true
   },
   "source": [
    "# symptoms over conditions"
   ]
  },
  {
   "cell_type": "code",
   "execution_count": null,
   "metadata": {
    "hidden": true
   },
   "outputs": [],
   "source": [
    "# data - q\n",
    "q_df = questions_df # intinatinally not filtered because its without time\n",
    "q_df = q_df[[location] + all_symptoms + all_conditions]\n",
    "q_df = (q_df.groupby([location]).mean()*100).reset_index()\n",
    "\n",
    "symptoms_by_order = q_df[all_symptoms].sum().sort_values(ascending=False).index.tolist()\n",
    "conditions_by_order = q_df[all_conditions].sum().sort_values().index.tolist()\n",
    "\n",
    "# plot\n",
    "g = sns.pairplot(q_df, x_vars=symptoms_by_order, y_vars=conditions_by_order, hue=location)\n",
    "\n",
    "title = 'symptoms over conditions' if not hebrew else get_display('��������� ��� ����� �������')\n",
    "plt.subplots_adjust(top=0.9)\n",
    "g.fig.suptitle(title)\n",
    "\n",
    "g.savefig(os.path.join('figs', 'symptoms over conditions'))"
   ]
  },
  {
   "cell_type": "markdown",
   "metadata": {
    "heading_collapsed": true
   },
   "source": [
    "# MOH patients file combiner"
   ]
  },
  {
   "cell_type": "code",
   "execution_count": null,
   "metadata": {
    "hidden": true,
    "scrolled": true
   },
   "outputs": [],
   "source": [
    "# reading and cleaning MOH patients files\n",
    "f2703 = '/net/mraid08/export/jafar/Microbiome/Analyses/saar/corona/MOH/originals/0327.xlsx'\n",
    "f2703 = pd.read_excel(f2703).dropna().rename(columns={'patients': date(2020, 3, 27)}) # does not have population column\n",
    "f2703['city_he'] = [get_display(city) for city in f2703['city_he']]\n",
    "\n",
    "f3103 = '/net/mraid08/export/jafar/Microbiome/Analyses/saar/corona/MOH/originals/0331.xlsx'\n",
    "f3103 = pd.read_excel(f3103).dropna().rename(columns={'patients': date(2020, 3, 31)}).drop('population', axis=1)\n",
    "\n",
    "f0104 = '/net/mraid08/export/jafar/Microbiome/Analyses/saar/corona/MOH/originals/0401.xlsx'\n",
    "f0104 = pd.read_excel(f0104).dropna().rename(columns={'patients': date(2020, 4, 1)}).drop('population', axis=1)\n",
    "\n",
    "f0304 = '/net/mraid08/export/jafar/Microbiome/Analyses/saar/corona/MOH/originals/0403.xlsx'\n",
    "f0304 = pd.read_excel(f0304).dropna().rename(columns={'patients': date(2020, 4, 3)}).drop('population', axis=1)\n",
    "f0304['city_he'] = [get_display(city) for city in f0304['city_he']]\n",
    "\n",
    "f0504 = '/net/mraid08/export/jafar/Microbiome/Analyses/saar/corona/MOH/originals/0405.xlsx'\n",
    "f0504 = pd.read_excel(f0504).dropna().rename(columns={'patients': date(2020, 4, 5)}).drop('population', axis=1)\n",
    "f0504['city_he'] = [get_display(city) for city in f0504['city_he']]\n",
    "\n",
    "f0604 = '/net/mraid08/export/jafar/Microbiome/Analyses/saar/corona/MOH/originals/0406.xlsx'\n",
    "f0604 = pd.read_excel(f0604).dropna().rename(columns={'patients': date(2020, 4, 6)}).drop('population', axis=1)\n",
    "f0604['city_he'] = [get_display(city) for city in f0604['city_he']]\n",
    "\n",
    "f0704 = '/net/mraid08/export/jafar/Microbiome/Analyses/saar/corona/MOH/originals/0407.xlsx'\n",
    "f0704 = pd.read_excel(f0704).dropna().rename(columns={'patients': date(2020, 4, 7)}) # this has the longest population column\n",
    "f0704['city_he'] = [get_display(city) for city in f0704['city_he']]\n",
    "\n",
    "patients_MOH_df = f2703.set_index('city_he').join(f3103.set_index('city_he'), how='outer').reset_index()\n",
    "patients_MOH_df = patients_MOH_df.set_index('city_he').join(f0104.set_index('city_he'), how='outer').reset_index()\n",
    "patients_MOH_df = patients_MOH_df.set_index('city_he').join(f0304.set_index('city_he'), how='outer').reset_index()\n",
    "patients_MOH_df = patients_MOH_df.set_index('city_he').join(f0504.set_index('city_he'), how='outer').reset_index()\n",
    "patients_MOH_df = patients_MOH_df.set_index('city_he').join(f0604.set_index('city_he'), how='outer').reset_index()\n",
    "patients_MOH_df = patients_MOH_df.set_index('city_he').join(f0704.set_index('city_he'), how='outer').reset_index()\n",
    "patients_MOH_df['city_en'] = patients_MOH_df['city_he'].map(city_he2en_dict)\n",
    "# patients_MOH_df.to_csv(os.path.join('MOH', 'MOH_combined.csv'))"
   ]
  }
 ],
 "metadata": {
  "kernelspec": {
   "display_name": "Python 3",
   "language": "python",
   "name": "python3"
  },
  "language_info": {
   "codemirror_mode": {
    "name": "ipython",
    "version": 3
   },
   "file_extension": ".py",
   "mimetype": "text/x-python",
   "name": "python",
   "nbconvert_exporter": "python",
   "pygments_lexer": "ipython3",
   "version": "3.7.6"
  },
  "toc": {
   "nav_menu": {},
   "number_sections": true,
   "sideBar": true,
   "skip_h1_title": false,
   "toc_cell": false,
   "toc_position": {
    "height": "659.8px",
    "left": "0px",
    "right": "1226.8px",
    "top": "111.2px",
    "width": "303.6px"
   },
   "toc_section_display": "block",
   "toc_window_display": true
  }
 },
 "nbformat": 4,
 "nbformat_minor": 2
}
